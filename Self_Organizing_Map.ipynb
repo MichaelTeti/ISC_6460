{
  "nbformat": 4,
  "nbformat_minor": 0,
  "metadata": {
    "colab": {
      "name": "HW2_Self-Organizing_Map.ipynb",
      "provenance": []
    },
    "kernelspec": {
      "display_name": "Python 3",
      "language": "python",
      "name": "python3"
    }
  },
  "cells": [
    {
      "cell_type": "markdown",
      "metadata": {
        "id": "fvs97XLd19Il"
      },
      "source": [
        "## Self-Organizing Map of RGB Colors"
      ]
    },
    {
      "cell_type": "code",
      "metadata": {
        "id": "D4TeXrqS19In"
      },
      "source": [
        "import numpy as np\n",
        "import matplotlib.pyplot as plt"
      ],
      "execution_count": null,
      "outputs": []
    },
    {
      "cell_type": "code",
      "metadata": {
        "id": "10IOfgTq19Ir"
      },
      "source": [
        "n_in = 3\n",
        "nr, nc = 10, 10\n",
        "w = np.random.rand(nr, nc, 3)\n",
        "nb = int(np.sqrt(nr))\n",
        "lr = 0.01\n",
        "dist = np.zeros([nr, nc])"
      ],
      "execution_count": null,
      "outputs": []
    },
    {
      "cell_type": "code",
      "metadata": {
        "id": "owRZdJUj19Iu"
      },
      "source": [
        "for i in range(30000):\n",
        "    rand_in = np.random.rand(1, 1, 3)  # generate a random example\n",
        "    dist = np.sum(np.absolute(w - rand_in), 2)\n",
        "    best = np.where(dist == np.amin(dist))\n",
        "    best_r, best_c = best[0][0], best[1][0]\n",
        "    \n",
        "    if best_r - nb < 0:\n",
        "        w_eligible = w[:best_r+nb, ...]\n",
        "    elif best_r + nb > nr - 1:\n",
        "        w_eligible = w[best_r-nb:, ...]\n",
        "    else:\n",
        "        w_eligible = w[best_r-nb:best_r+nb, ...]\n",
        "        \n",
        "    if best_c - nb < 0:\n",
        "        w_eligible = w_eligible[:, :best_c+nb, :]\n",
        "    elif best_c + nb > nc -1:\n",
        "        w_eligible = w_eligible[:, best_c-nb:, :]\n",
        "    else:\n",
        "        w_eligible = w_eligible[:, best_c-nb:best_c+nb, :]\n",
        "        \n",
        "    \n",
        "    \n",
        "    w_eligible = w[best_r-1:best_r+2, best_c-1:best_c+2, :]\n",
        "    w_eligible += (lr * (rand_in - w_eligible))\n",
        "    w[best_r-1:best_r+2, best_c-1:best_c+2, :] = w_eligible"
      ],
      "execution_count": null,
      "outputs": []
    },
    {
      "cell_type": "code",
      "metadata": {
        "id": "NJ923fxr19Ix",
        "colab": {
          "base_uri": "https://localhost:8080/",
          "height": 347
        },
        "outputId": "8492b6ab-ed5f-417e-b32a-94244e362720"
      },
      "source": [
        "plt.imshow(w)\n",
        "plt.grid(False)\n",
        "plt.show()"
      ],
      "execution_count": null,
      "outputs": [
        {
          "output_type": "display_data",
          "data": {
            "image/png": "[encoded data removed]",
            "text/plain": [
              "<matplotlib.figure.Figure at 0x7fc0876aa208>"
            ]
          },
          "metadata": {
            "tags": []
          }
        }
      ]
    },
    {
      "cell_type": "code",
      "metadata": {
        "id": "DE7xKHkr19I1"
      },
      "source": [
        ""
      ],
      "execution_count": null,
      "outputs": []
    }
  ]
}
